{
 "cells": [
  {
   "cell_type": "markdown",
   "metadata": {
    "_cell_guid": "b1076dfc-b9ad-4769-8c92-a6c4dae69d19",
    "_uuid": "8f2839f25d086af736a60e9eeb907d3b93b6e0e5"
   },
   "source": [
    "# Insurance cost prediction using linear regression\n",
    "\n",
    "In this assignment we're going to use information like a person's age, sex, BMI, no. of children and smoking habit to predict the price of yearly medical bills. This kind of model is useful for insurance companies to determine the yearly insurance premium for a person. The dataset for this problem is taken from: https://www.kaggle.com/mirichoi0218/insurance\n",
    "\n",
    "\n",
    "We will create a model with the following steps:\n",
    "1. Download and explore the dataset\n",
    "2. Prepare the dataset for training\n",
    "3. Create a linear regression model\n",
    "4. Train the model to fit the data\n",
    "5. Make predictions using the trained model\n",
    "\n",
    "\n",
    "This assignment builds upon the concepts from the first 2 lectures. It will help to review these Jupyter notebooks:\n",
    "- PyTorch basics: https://jovian.ml/aakashns/01-pytorch-basics\n",
    "- Linear Regression: https://jovian.ml/aakashns/02-linear-regression\n",
    "- Logistic Regression: https://jovian.ml/aakashns/03-logistic-regression\n",
    "- Linear regression (minimal): https://jovian.ml/aakashns/housing-linear-minimal\n",
    "- Logistic regression (minimal): https://jovian.ml/aakashns/mnist-logistic-minimal\n",
    "\n",
    "As you go through this notebook, you will find a **???** in certain places. Your job is to replace the **???** with appropriate code or values, to ensure that the notebook runs properly end-to-end . In some cases, you'll be required to choose some hyperparameters (learning rate, batch size etc.). Try to experiment with the hypeparameters to get the lowest loss.\n"
   ]
  },
  {
   "cell_type": "code",
   "execution_count": 1,
   "metadata": {},
   "outputs": [
    {
     "name": "stdout",
     "output_type": "stream",
     "text": [
      "\u001b[33mWARNING: You are using pip version 20.1; however, version 20.1.1 is available.\r\n",
      "You should consider upgrading via the '/opt/conda/bin/python3.7 -m pip install --upgrade pip' command.\u001b[0m\r\n"
     ]
    }
   ],
   "source": [
    "# Uncomment and run the commands below if imports fail\n",
    "# !conda install numpy pytorch torchvision cpuonly -c pytorch -y\n",
    "# !pip install matplotlib --upgrade --quiet\n",
    "!pip install jovian --upgrade --quiet"
   ]
  },
  {
   "cell_type": "code",
   "execution_count": 2,
   "metadata": {},
   "outputs": [],
   "source": [
    "import torch\n",
    "import jovian\n",
    "import torchvision\n",
    "import torch.nn as nn\n",
    "import pandas as pd\n",
    "import matplotlib.pyplot as plt\n",
    "import torch.nn.functional as F\n",
    "from torchvision.datasets.utils import download_url\n",
    "from torch.utils.data import DataLoader, TensorDataset, random_split"
   ]
  },
  {
   "cell_type": "code",
   "execution_count": 3,
   "metadata": {},
   "outputs": [],
   "source": [
    "project_name='02-insurance-linear-regression' # will be used by jovian.commit"
   ]
  },
  {
   "cell_type": "markdown",
   "metadata": {},
   "source": [
    "## Step 1: Download and explore the data\n",
    "\n",
    "Let us begin by downloading the data. We'll use the `download_url` function from PyTorch to get the data as a CSV (comma-separated values) file. "
   ]
  },
  {
   "cell_type": "code",
   "execution_count": 4,
   "metadata": {
    "_cell_guid": "79c7e3d0-c299-4dcb-8224-4455121ee9b0",
    "_uuid": "d629ff2d2480ee46fbb7e2d37f6b5fab8052498a"
   },
   "outputs": [
    {
     "name": "stdout",
     "output_type": "stream",
     "text": [
      "Using downloaded and verified file: .\\insurance.csv\n"
     ]
    }
   ],
   "source": [
    "DATASET_URL = \"https://hub.jovian.ml/wp-content/uploads/2020/05/insurance.csv\"\n",
    "DATA_FILENAME = \"insurance.csv\"\n",
    "download_url(DATASET_URL, '.')"
   ]
  },
  {
   "cell_type": "markdown",
   "metadata": {},
   "source": [
    "To load the dataset into memory, we'll use the `read_csv` function from the `pandas` library. The data will be loaded as a Pandas dataframe. See this short tutorial to learn more: https://data36.com/pandas-tutorial-1-basics-reading-data-files-dataframes-data-selection/"
   ]
  },
  {
   "cell_type": "code",
   "execution_count": 5,
   "metadata": {},
   "outputs": [
    {
     "data": {
      "text/html": [
       "<div>\n",
       "<style scoped>\n",
       "    .dataframe tbody tr th:only-of-type {\n",
       "        vertical-align: middle;\n",
       "    }\n",
       "\n",
       "    .dataframe tbody tr th {\n",
       "        vertical-align: top;\n",
       "    }\n",
       "\n",
       "    .dataframe thead th {\n",
       "        text-align: right;\n",
       "    }\n",
       "</style>\n",
       "<table border=\"1\" class=\"dataframe\">\n",
       "  <thead>\n",
       "    <tr style=\"text-align: right;\">\n",
       "      <th></th>\n",
       "      <th>age</th>\n",
       "      <th>sex</th>\n",
       "      <th>bmi</th>\n",
       "      <th>children</th>\n",
       "      <th>smoker</th>\n",
       "      <th>region</th>\n",
       "      <th>charges</th>\n",
       "    </tr>\n",
       "  </thead>\n",
       "  <tbody>\n",
       "    <tr>\n",
       "      <td>0</td>\n",
       "      <td>19</td>\n",
       "      <td>female</td>\n",
       "      <td>27.900</td>\n",
       "      <td>0</td>\n",
       "      <td>yes</td>\n",
       "      <td>southwest</td>\n",
       "      <td>16884.92400</td>\n",
       "    </tr>\n",
       "    <tr>\n",
       "      <td>1</td>\n",
       "      <td>18</td>\n",
       "      <td>male</td>\n",
       "      <td>33.770</td>\n",
       "      <td>1</td>\n",
       "      <td>no</td>\n",
       "      <td>southeast</td>\n",
       "      <td>1725.55230</td>\n",
       "    </tr>\n",
       "    <tr>\n",
       "      <td>2</td>\n",
       "      <td>28</td>\n",
       "      <td>male</td>\n",
       "      <td>33.000</td>\n",
       "      <td>3</td>\n",
       "      <td>no</td>\n",
       "      <td>southeast</td>\n",
       "      <td>4449.46200</td>\n",
       "    </tr>\n",
       "    <tr>\n",
       "      <td>3</td>\n",
       "      <td>33</td>\n",
       "      <td>male</td>\n",
       "      <td>22.705</td>\n",
       "      <td>0</td>\n",
       "      <td>no</td>\n",
       "      <td>northwest</td>\n",
       "      <td>21984.47061</td>\n",
       "    </tr>\n",
       "    <tr>\n",
       "      <td>4</td>\n",
       "      <td>32</td>\n",
       "      <td>male</td>\n",
       "      <td>28.880</td>\n",
       "      <td>0</td>\n",
       "      <td>no</td>\n",
       "      <td>northwest</td>\n",
       "      <td>3866.85520</td>\n",
       "    </tr>\n",
       "  </tbody>\n",
       "</table>\n",
       "</div>"
      ],
      "text/plain": [
       "   age     sex     bmi  children smoker     region      charges\n",
       "0   19  female  27.900         0    yes  southwest  16884.92400\n",
       "1   18    male  33.770         1     no  southeast   1725.55230\n",
       "2   28    male  33.000         3     no  southeast   4449.46200\n",
       "3   33    male  22.705         0     no  northwest  21984.47061\n",
       "4   32    male  28.880         0     no  northwest   3866.85520"
      ]
     },
     "execution_count": 5,
     "metadata": {},
     "output_type": "execute_result"
    }
   ],
   "source": [
    "dataframe_raw = pd.read_csv(DATA_FILENAME)\n",
    "dataframe_raw.head()"
   ]
  },
  {
   "cell_type": "markdown",
   "metadata": {},
   "source": [
    "We're going to do a slight customization of the data, so that you every participant receives a slightly different version of the dataset. Fill in your name below as a string (enter at least 5 characters)"
   ]
  },
  {
   "cell_type": "code",
   "execution_count": 6,
   "metadata": {},
   "outputs": [],
   "source": [
    "your_name = 'Riyan' # at least 5 characters"
   ]
  },
  {
   "cell_type": "markdown",
   "metadata": {},
   "source": [
    "The `customize_dataset` function will customize the dataset slightly using your name as a source of random numbers."
   ]
  },
  {
   "cell_type": "code",
   "execution_count": 7,
   "metadata": {},
   "outputs": [],
   "source": [
    "def customize_dataset(dataframe_raw, rand_str):\n",
    "    dataframe = dataframe_raw.copy(deep=True)\n",
    "    # drop some rows\n",
    "    dataframe = dataframe.sample(int(0.95*len(dataframe)), random_state=int(ord(rand_str[0])))\n",
    "    # scale input\n",
    "    dataframe.bmi = dataframe.bmi * ord(rand_str[1])/100.\n",
    "    # scale target\n",
    "    dataframe.charges = dataframe.charges * ord(rand_str[2])/100.\n",
    "    # drop column\n",
    "    if ord(rand_str[3]) % 2 == 1:\n",
    "        dataframe = dataframe.drop(['region'], axis=1)\n",
    "    return dataframe"
   ]
  },
  {
   "cell_type": "code",
   "execution_count": 8,
   "metadata": {},
   "outputs": [
    {
     "data": {
      "text/html": [
       "<div>\n",
       "<style scoped>\n",
       "    .dataframe tbody tr th:only-of-type {\n",
       "        vertical-align: middle;\n",
       "    }\n",
       "\n",
       "    .dataframe tbody tr th {\n",
       "        vertical-align: top;\n",
       "    }\n",
       "\n",
       "    .dataframe thead th {\n",
       "        text-align: right;\n",
       "    }\n",
       "</style>\n",
       "<table border=\"1\" class=\"dataframe\">\n",
       "  <thead>\n",
       "    <tr style=\"text-align: right;\">\n",
       "      <th></th>\n",
       "      <th>age</th>\n",
       "      <th>sex</th>\n",
       "      <th>bmi</th>\n",
       "      <th>children</th>\n",
       "      <th>smoker</th>\n",
       "      <th>charges</th>\n",
       "    </tr>\n",
       "  </thead>\n",
       "  <tbody>\n",
       "    <tr>\n",
       "      <td>457</td>\n",
       "      <td>57</td>\n",
       "      <td>female</td>\n",
       "      <td>32.01975</td>\n",
       "      <td>0</td>\n",
       "      <td>no</td>\n",
       "      <td>14327.337811</td>\n",
       "    </tr>\n",
       "    <tr>\n",
       "      <td>1050</td>\n",
       "      <td>44</td>\n",
       "      <td>female</td>\n",
       "      <td>38.80275</td>\n",
       "      <td>1</td>\n",
       "      <td>no</td>\n",
       "      <td>9707.993894</td>\n",
       "    </tr>\n",
       "    <tr>\n",
       "      <td>56</td>\n",
       "      <td>58</td>\n",
       "      <td>female</td>\n",
       "      <td>33.41625</td>\n",
       "      <td>2</td>\n",
       "      <td>no</td>\n",
       "      <td>16464.916187</td>\n",
       "    </tr>\n",
       "    <tr>\n",
       "      <td>311</td>\n",
       "      <td>19</td>\n",
       "      <td>female</td>\n",
       "      <td>25.93500</td>\n",
       "      <td>0</td>\n",
       "      <td>no</td>\n",
       "      <td>2102.224960</td>\n",
       "    </tr>\n",
       "    <tr>\n",
       "      <td>1288</td>\n",
       "      <td>20</td>\n",
       "      <td>male</td>\n",
       "      <td>41.37000</td>\n",
       "      <td>2</td>\n",
       "      <td>yes</td>\n",
       "      <td>46396.924860</td>\n",
       "    </tr>\n",
       "  </tbody>\n",
       "</table>\n",
       "</div>"
      ],
      "text/plain": [
       "      age     sex       bmi  children smoker       charges\n",
       "457    57  female  32.01975         0     no  14327.337811\n",
       "1050   44  female  38.80275         1     no   9707.993894\n",
       "56     58  female  33.41625         2     no  16464.916187\n",
       "311    19  female  25.93500         0     no   2102.224960\n",
       "1288   20    male  41.37000         2    yes  46396.924860"
      ]
     },
     "execution_count": 8,
     "metadata": {},
     "output_type": "execute_result"
    }
   ],
   "source": [
    "dataframe = customize_dataset(dataframe_raw, your_name)\n",
    "dataframe.head()"
   ]
  },
  {
   "cell_type": "markdown",
   "metadata": {},
   "source": [
    "Let us answer some basic questions about the dataset. \n",
    "\n",
    "\n",
    "**Q: How many rows does the dataset have?**"
   ]
  },
  {
   "cell_type": "code",
   "execution_count": 9,
   "metadata": {},
   "outputs": [
    {
     "name": "stdout",
     "output_type": "stream",
     "text": [
      "1271\n"
     ]
    }
   ],
   "source": [
    "num_rows = 1271\n",
    "print(num_rows)"
   ]
  },
  {
   "cell_type": "markdown",
   "metadata": {},
   "source": [
    "**Q: How many columns doe the dataset have**"
   ]
  },
  {
   "cell_type": "code",
   "execution_count": 10,
   "metadata": {},
   "outputs": [
    {
     "name": "stdout",
     "output_type": "stream",
     "text": [
      "6\n"
     ]
    }
   ],
   "source": [
    "num_cols = 6\n",
    "print(num_cols)"
   ]
  },
  {
   "cell_type": "markdown",
   "metadata": {},
   "source": [
    "**Q: What are the column titles of the input variables?**"
   ]
  },
  {
   "cell_type": "code",
   "execution_count": 11,
   "metadata": {},
   "outputs": [],
   "source": [
    "input_cols = ['age','sex','bmi','children','smoker']"
   ]
  },
  {
   "cell_type": "markdown",
   "metadata": {},
   "source": [
    "**Q: Which of the input columns are non-numeric or categorial variables ?**\n",
    "\n",
    "Hint: `sex` is one of them. List the columns that are not numbers."
   ]
  },
  {
   "cell_type": "code",
   "execution_count": 12,
   "metadata": {},
   "outputs": [],
   "source": [
    "categorical_cols = ['sex','smoker']"
   ]
  },
  {
   "cell_type": "markdown",
   "metadata": {},
   "source": [
    "**Q: What are the column titles of output/target variable(s)?**"
   ]
  },
  {
   "cell_type": "code",
   "execution_count": 13,
   "metadata": {},
   "outputs": [],
   "source": [
    "output_cols = ['charges']"
   ]
  },
  {
   "cell_type": "markdown",
   "metadata": {},
   "source": [
    "**Q: (Optional) What is the minimum, maximum and average value of the `charges` column? Can you show the distribution of values in a graph?**\n",
    "Use this data visualization cheatsheet for referece: https://jovian.ml/aakashns/dataviz-cheatsheet"
   ]
  },
  {
   "cell_type": "code",
   "execution_count": 14,
   "metadata": {},
   "outputs": [],
   "source": [
    "# Write your answer here"
   ]
  },
  {
   "cell_type": "markdown",
   "metadata": {},
   "source": [
    "Remember to commit your notebook to Jovian after every step, so that you don't lose your work."
   ]
  },
  {
   "cell_type": "code",
   "execution_count": 15,
   "metadata": {},
   "outputs": [
    {
     "data": {
      "application/javascript": [
       "window.require && require([\"base/js/namespace\"],function(Jupyter){Jupyter.notebook.save_checkpoint()})"
      ],
      "text/plain": [
       "<IPython.core.display.Javascript object>"
      ]
     },
     "metadata": {},
     "output_type": "display_data"
    },
    {
     "name": "stdout",
     "output_type": "stream",
     "text": [
      "[jovian] Attempting to save notebook..\n",
      "[jovian] Updating notebook \"riyanahmad99/02-insurance-linear-regression\" on https://jovian.ml/\n",
      "[jovian] Uploading notebook..\n",
      "[jovian] Committed successfully! https://jovian.ml/riyanahmad99/02-insurance-linear-regression\n"
     ]
    },
    {
     "data": {
      "text/plain": [
       "'https://jovian.ml/riyanahmad99/02-insurance-linear-regression'"
      ]
     },
     "execution_count": 15,
     "metadata": {},
     "output_type": "execute_result"
    }
   ],
   "source": [
    "jovian.commit(project=project_name, environment=None)"
   ]
  },
  {
   "cell_type": "markdown",
   "metadata": {},
   "source": [
    "## Step 2: Prepare the dataset for training\n",
    "\n",
    "We need to convert the data from the Pandas dataframe into a PyTorch tensors for training. To do this, the first step is to convert it numpy arrays. If you've filled out `input_cols`, `categorial_cols` and `output_cols` correctly, this following function will perform the conversion to numpy arrays."
   ]
  },
  {
   "cell_type": "code",
   "execution_count": 16,
   "metadata": {},
   "outputs": [],
   "source": [
    "def dataframe_to_arrays(dataframe):\n",
    "    # Make a copy of the original dataframe\n",
    "    dataframe1 = dataframe.copy(deep=True)\n",
    "    # Convert non-numeric categorical columns to numbers\n",
    "    for col in categorical_cols:\n",
    "        dataframe1[col] = dataframe1[col].astype('category').cat.codes\n",
    "    # Extract input & outupts as numpy arrays\n",
    "    inputs_array = dataframe1[input_cols].to_numpy()\n",
    "    targets_array = dataframe1[output_cols].to_numpy()\n",
    "    return inputs_array, targets_array"
   ]
  },
  {
   "cell_type": "markdown",
   "metadata": {},
   "source": [
    "Read through the [Pandas documentation](https://pandas.pydata.org/pandas-docs/stable/user_guide/categorical.html) to understand how we're converting categorical variables into numbers."
   ]
  },
  {
   "cell_type": "code",
   "execution_count": 17,
   "metadata": {},
   "outputs": [
    {
     "data": {
      "text/plain": [
       "(array([[57.     ,  0.     , 32.01975,  0.     ,  0.     ],\n",
       "        [44.     ,  0.     , 38.80275,  1.     ,  0.     ],\n",
       "        [58.     ,  0.     , 33.41625,  2.     ,  0.     ],\n",
       "        ...,\n",
       "        [59.     ,  0.     , 36.54   ,  2.     ,  0.     ],\n",
       "        [41.     ,  1.     , 30.24   ,  1.     ,  0.     ],\n",
       "        [36.     ,  0.     , 31.521  ,  0.     ,  0.     ]]),\n",
       " array([[14327.3378105],\n",
       "        [ 9707.9938945],\n",
       "        [16464.9161875],\n",
       "        ...,\n",
       "        [44661.8357163],\n",
       "        [ 7601.50435  ],\n",
       "        [ 6379.332718 ]]))"
      ]
     },
     "execution_count": 17,
     "metadata": {},
     "output_type": "execute_result"
    }
   ],
   "source": [
    "inputs_array, targets_array = dataframe_to_arrays(dataframe)\n",
    "inputs_array, targets_array"
   ]
  },
  {
   "cell_type": "markdown",
   "metadata": {},
   "source": [
    "**Q: Convert the numpy arrays `inputs_array` and `targets_array` into PyTorch tensors. Make sure that the data type is `torch.float32`.**"
   ]
  },
  {
   "cell_type": "code",
   "execution_count": 18,
   "metadata": {},
   "outputs": [
    {
     "data": {
      "text/plain": [
       "torch.Size([1271, 5])"
      ]
     },
     "execution_count": 18,
     "metadata": {},
     "output_type": "execute_result"
    }
   ],
   "source": [
    "inputs = torch.tensor(inputs_array, dtype=torch.float32)\n",
    "targets = torch.tensor(targets_array, dtype=torch.float32)\n",
    "inputs.size()"
   ]
  },
  {
   "cell_type": "code",
   "execution_count": 19,
   "metadata": {},
   "outputs": [
    {
     "data": {
      "text/plain": [
       "(torch.float32, torch.float32)"
      ]
     },
     "execution_count": 19,
     "metadata": {},
     "output_type": "execute_result"
    }
   ],
   "source": [
    "inputs.dtype, targets.dtype"
   ]
  },
  {
   "cell_type": "markdown",
   "metadata": {},
   "source": [
    "Next, we need to create PyTorch datasets & data loaders for training & validation. We'll start by creating a `TensorDataset`."
   ]
  },
  {
   "cell_type": "code",
   "execution_count": 20,
   "metadata": {},
   "outputs": [],
   "source": [
    "dataset = TensorDataset(inputs, targets)"
   ]
  },
  {
   "cell_type": "markdown",
   "metadata": {},
   "source": [
    "**Q: Pick a number between `0.1` and `0.2` to determine the fraction of data that will be used for creating the validation set. Then use `random_split` to create training & validation datasets. **"
   ]
  },
  {
   "cell_type": "code",
   "execution_count": 21,
   "metadata": {},
   "outputs": [],
   "source": [
    "val_percent = 0.2 # between 0.1 and 0.2\n",
    "val_size = int(num_rows * val_percent)\n",
    "train_size = num_rows - val_size\n",
    "\n",
    "\n",
    "train_ds, val_ds = random_split(dataset, [train_size,val_size]) # Use the random_split function to split dataset into 2 parts of the desired length"
   ]
  },
  {
   "cell_type": "markdown",
   "metadata": {},
   "source": [
    "Finally, we can create data loaders for training & validation.\n",
    "\n",
    "**Q: Pick a batch size for the data loader.**"
   ]
  },
  {
   "cell_type": "code",
   "execution_count": 22,
   "metadata": {},
   "outputs": [],
   "source": [
    "batch_size = 100"
   ]
  },
  {
   "cell_type": "code",
   "execution_count": 23,
   "metadata": {},
   "outputs": [],
   "source": [
    "train_loader = DataLoader(train_ds, batch_size, shuffle=True)\n",
    "val_loader = DataLoader(val_ds, batch_size)"
   ]
  },
  {
   "cell_type": "markdown",
   "metadata": {},
   "source": [
    "Let's look at a batch of data to verify everything is working fine so far."
   ]
  },
  {
   "cell_type": "code",
   "execution_count": 24,
   "metadata": {},
   "outputs": [
    {
     "name": "stdout",
     "output_type": "stream",
     "text": [
      "inputs: tensor([[38.0000,  0.0000, 29.4000,  3.0000,  0.0000],\n",
      "        [20.0000,  0.0000, 22.8900,  0.0000,  1.0000],\n",
      "        [48.0000,  0.0000, 33.9150,  2.0000,  0.0000],\n",
      "        [61.0000,  0.0000, 46.2000,  0.0000,  0.0000],\n",
      "        [37.0000,  0.0000, 36.5400,  2.0000,  1.0000],\n",
      "        [46.0000,  0.0000, 29.1270,  0.0000,  0.0000],\n",
      "        [47.0000,  0.0000, 38.4615,  1.0000,  1.0000],\n",
      "        [24.0000,  0.0000, 35.0122,  0.0000,  0.0000],\n",
      "        [28.0000,  1.0000, 35.5110,  0.0000,  0.0000],\n",
      "        [34.0000,  0.0000, 31.7205,  1.0000,  1.0000],\n",
      "        [19.0000,  1.0000, 36.6450,  0.0000,  1.0000],\n",
      "        [20.0000,  1.0000, 37.4062,  3.0000,  1.0000],\n",
      "        [30.0000,  1.0000, 33.1485,  3.0000,  0.0000],\n",
      "        [42.0000,  0.0000, 42.3885,  2.0000,  1.0000],\n",
      "        [23.0000,  1.0000, 27.8355,  0.0000,  0.0000],\n",
      "        [37.0000,  0.0000, 26.8328,  1.0000,  1.0000],\n",
      "        [33.0000,  1.0000, 35.1120,  5.0000,  0.0000],\n",
      "        [52.0000,  0.0000, 19.2518,  0.0000,  0.0000],\n",
      "        [62.0000,  0.0000, 32.0197,  2.0000,  0.0000],\n",
      "        [52.0000,  0.0000, 26.1030,  0.0000,  0.0000],\n",
      "        [60.0000,  0.0000, 19.2518,  0.0000,  0.0000],\n",
      "        [45.0000,  1.0000, 22.4438,  0.0000,  0.0000],\n",
      "        [30.0000,  0.0000, 20.9475,  3.0000,  0.0000],\n",
      "        [40.0000,  0.0000, 24.5385,  3.0000,  0.0000],\n",
      "        [19.0000,  1.0000, 30.1350,  0.0000,  0.0000],\n",
      "        [29.0000,  1.0000, 24.0397,  0.0000,  1.0000],\n",
      "        [47.0000,  1.0000, 20.5485,  1.0000,  0.0000],\n",
      "        [53.0000,  0.0000, 26.0347,  1.0000,  0.0000],\n",
      "        [37.0000,  1.0000, 35.9100,  1.0000,  1.0000],\n",
      "        [51.0000,  0.0000, 42.6930,  0.0000,  0.0000],\n",
      "        [39.0000,  1.0000, 35.8050,  2.0000,  0.0000],\n",
      "        [39.0000,  1.0000, 22.9425,  1.0000,  0.0000],\n",
      "        [22.0000,  1.0000, 33.3165,  0.0000,  0.0000],\n",
      "        [25.0000,  1.0000, 31.1850,  3.0000,  1.0000],\n",
      "        [22.0000,  0.0000, 25.5150,  0.0000,  0.0000],\n",
      "        [37.0000,  1.0000, 31.3215,  2.0000,  0.0000],\n",
      "        [25.0000,  1.0000, 27.5310,  0.0000,  0.0000],\n",
      "        [49.0000,  1.0000, 31.8150,  0.0000,  0.0000],\n",
      "        [46.0000,  0.0000, 31.7100,  2.0000,  0.0000],\n",
      "        [57.0000,  0.0000, 30.2243,  4.0000,  0.0000],\n",
      "        [56.0000,  0.0000, 29.7255,  0.0000,  0.0000],\n",
      "        [23.0000,  0.0000, 29.7255,  0.0000,  1.0000],\n",
      "        [53.0000,  0.0000, 38.7030,  3.0000,  1.0000],\n",
      "        [21.0000,  0.0000, 22.9425,  1.0000,  1.0000],\n",
      "        [64.0000,  0.0000, 41.6850,  0.0000,  0.0000],\n",
      "        [33.0000,  0.0000, 45.0870,  3.0000,  0.0000],\n",
      "        [20.0000,  0.0000, 34.9650,  0.0000,  0.0000],\n",
      "        [38.0000,  0.0000, 30.3765,  1.0000,  0.0000],\n",
      "        [63.0000,  0.0000, 38.1150,  0.0000,  0.0000],\n",
      "        [48.0000,  0.0000, 33.8415,  1.0000,  0.0000],\n",
      "        [61.0000,  0.0000, 37.7055,  0.0000,  0.0000],\n",
      "        [35.0000,  0.0000, 29.4263,  0.0000,  1.0000],\n",
      "        [33.0000,  0.0000, 34.5450,  2.0000,  0.0000],\n",
      "        [57.0000,  1.0000, 24.8850,  0.0000,  0.0000],\n",
      "        [31.0000,  0.0000, 32.0197,  3.0000,  0.0000],\n",
      "        [33.0000,  1.0000, 28.4550,  1.0000,  1.0000],\n",
      "        [29.0000,  0.0000, 25.8300,  2.0000,  0.0000],\n",
      "        [40.0000,  1.0000, 27.6308,  1.0000,  0.0000],\n",
      "        [37.0000,  0.0000, 24.5385,  2.0000,  0.0000],\n",
      "        [49.0000,  1.0000, 26.8800,  2.0000,  1.0000],\n",
      "        [36.0000,  0.0000, 31.4160,  1.0000,  0.0000],\n",
      "        [39.0000,  0.0000, 33.5160,  2.0000,  0.0000],\n",
      "        [60.0000,  0.0000, 39.9630,  0.0000,  0.0000],\n",
      "        [22.0000,  0.0000, 24.3390,  0.0000,  0.0000],\n",
      "        [34.0000,  0.0000, 19.9500,  3.0000,  0.0000],\n",
      "        [23.0000,  1.0000, 25.0373,  0.0000,  0.0000],\n",
      "        [44.0000,  0.0000, 46.0845,  2.0000,  1.0000],\n",
      "        [30.0000,  0.0000, 23.0422,  1.0000,  0.0000],\n",
      "        [21.0000,  1.0000, 30.4237,  0.0000,  0.0000],\n",
      "        [63.0000,  1.0000, 38.6032,  0.0000,  0.0000],\n",
      "        [56.0000,  1.0000, 35.3115,  0.0000,  1.0000],\n",
      "        [43.0000,  1.0000, 26.7960,  5.0000,  0.0000],\n",
      "        [44.0000,  0.0000, 38.8027,  1.0000,  0.0000],\n",
      "        [31.0000,  1.0000, 31.3005,  0.0000,  1.0000],\n",
      "        [21.0000,  1.0000, 37.3065,  0.0000,  0.0000],\n",
      "        [37.0000,  0.0000, 49.9800,  2.0000,  1.0000],\n",
      "        [32.0000,  1.0000, 29.5260,  4.0000,  1.0000],\n",
      "        [53.0000,  0.0000, 41.5800,  1.0000,  0.0000],\n",
      "        [18.0000,  1.0000, 29.7255,  1.0000,  0.0000],\n",
      "        [30.0000,  1.0000, 40.7715,  1.0000,  0.0000],\n",
      "        [49.0000,  0.0000, 43.5435,  4.0000,  0.0000],\n",
      "        [19.0000,  1.0000, 27.3315,  1.0000,  1.0000],\n",
      "        [54.0000,  1.0000, 31.5210,  0.0000,  0.0000],\n",
      "        [26.0000,  0.0000, 35.9100,  2.0000,  0.0000],\n",
      "        [33.0000,  1.0000, 23.8403,  0.0000,  0.0000],\n",
      "        [23.0000,  0.0000, 36.7080,  3.0000,  0.0000],\n",
      "        [18.0000,  1.0000, 22.8690,  2.0000,  0.0000],\n",
      "        [24.0000,  1.0000, 30.7650,  0.0000,  0.0000],\n",
      "        [28.0000,  1.0000, 24.9900,  2.0000,  0.0000],\n",
      "        [44.0000,  1.0000, 38.9550,  2.0000,  0.0000],\n",
      "        [44.0000,  1.0000, 23.2418,  2.0000,  0.0000],\n",
      "        [39.0000,  1.0000, 29.7150,  1.0000,  1.0000],\n",
      "        [39.0000,  0.0000, 24.4387,  3.0000,  0.0000],\n",
      "        [50.0000,  0.0000, 29.5260,  3.0000,  0.0000],\n",
      "        [47.0000,  1.0000, 31.3215,  3.0000,  0.0000],\n",
      "        [37.0000,  1.0000, 48.8565,  3.0000,  0.0000],\n",
      "        [34.0000,  1.0000, 37.6058,  0.0000,  0.0000],\n",
      "        [18.0000,  1.0000, 41.0970,  0.0000,  0.0000],\n",
      "        [19.0000,  1.0000, 36.5400,  0.0000,  1.0000],\n",
      "        [19.0000,  0.0000, 34.1145,  0.0000,  1.0000]])\n",
      "targets: tensor([[ 8652.8213],\n",
      "        [24402.4766],\n",
      "        [12152.3311],\n",
      "        [15807.2988],\n",
      "        [48202.1875],\n",
      "        [ 9712.2666],\n",
      "        [51993.5234],\n",
      "        [ 3455.0793],\n",
      "        [23804.7363],\n",
      "        [53172.0898],\n",
      "        [42142.6719],\n",
      "        [45333.0664],\n",
      "        [ 5853.4746],\n",
      "        [53114.6172],\n",
      "        [ 2197.2100],\n",
      "        [24559.2051],\n",
      "        [ 8051.0840],\n",
      "        [12089.1553],\n",
      "        [18173.9102],\n",
      "        [32812.7734],\n",
      "        [15977.1855],\n",
      "        [ 8739.5713],\n",
      "        [ 6889.0508],\n",
      "        [ 9985.2637],\n",
      "        [ 1517.2626],\n",
      "        [19527.9023],\n",
      "        [10197.9639],\n",
      "        [13239.9795],\n",
      "        [47247.2148],\n",
      "        [11949.5732],\n",
      "        [28511.2500],\n",
      "        [ 7402.1685],\n",
      "        [ 2728.3040],\n",
      "        [24119.4844],\n",
      "        [ 2602.0674],\n",
      "        [ 7751.7568],\n",
      "        [ 3292.7981],\n",
      "        [ 9821.1826],\n",
      "        [10678.3545],\n",
      "        [17417.2227],\n",
      "        [14105.8398],\n",
      "        [21821.1016],\n",
      "        [56460.3438],\n",
      "        [18584.5156],\n",
      "        [17326.0273],\n",
      "        [ 7696.8022],\n",
      "        [ 2275.3892],\n",
      "        [ 7229.0054],\n",
      "        [16803.5176],\n",
      "        [10734.0938],\n",
      "        [16499.1211],\n",
      "        [24484.1738],\n",
      "        [ 6503.7959],\n",
      "        [13260.7891],\n",
      "        [ 7397.0098],\n",
      "        [23039.4590],\n",
      "        [ 5480.6670],\n",
      "        [ 7731.1470],\n",
      "        [ 8090.5820],\n",
      "        [28200.9219],\n",
      "        [ 6628.4243],\n",
      "        [ 8723.4854],\n",
      "        [15304.9307],\n",
      "        [ 3305.6138],\n",
      "        [ 8171.1758],\n",
      "        [ 2898.1575],\n",
      "        [55903.1914],\n",
      "        [ 5709.0264],\n",
      "        [ 2306.6936],\n",
      "        [16918.0391],\n",
      "        [53144.6328],\n",
      "        [17518.7793],\n",
      "        [ 9707.9941],\n",
      "        [23413.9473],\n",
      "        [ 1854.2883],\n",
      "        [55797.3477],\n",
      "        [25981.6992],\n",
      "        [12801.4502],\n",
      "        [13639.5205],\n",
      "        [22945.4375],\n",
      "        [13282.4199],\n",
      "        [19905.5820],\n",
      "        [29616.5391],\n",
      "        [ 4825.3906],\n",
      "        [26601.2090],\n",
      "        [ 5404.6118],\n",
      "        [14379.6992],\n",
      "        [ 2393.1562],\n",
      "        [ 4655.6855],\n",
      "        [ 9365.8076],\n",
      "        [10046.0684],\n",
      "        [25509.4141],\n",
      "        [ 9663.6348],\n",
      "        [13413.5596],\n",
      "        [11640.6006],\n",
      "        [ 7787.1045],\n",
      "        [ 5227.6973],\n",
      "        [15596.9697],\n",
      "        [42083.3359],\n",
      "        [44647.4688]])\n"
     ]
    }
   ],
   "source": [
    "for xb, yb in train_loader:\n",
    "    print(\"inputs:\", xb)\n",
    "    print(\"targets:\", yb)\n",
    "    break"
   ]
  },
  {
   "cell_type": "markdown",
   "metadata": {},
   "source": [
    "Let's save our work by committing to Jovian."
   ]
  },
  {
   "cell_type": "code",
   "execution_count": 25,
   "metadata": {},
   "outputs": [
    {
     "data": {
      "application/javascript": [
       "window.require && require([\"base/js/namespace\"],function(Jupyter){Jupyter.notebook.save_checkpoint()})"
      ],
      "text/plain": [
       "<IPython.core.display.Javascript object>"
      ]
     },
     "metadata": {},
     "output_type": "display_data"
    },
    {
     "name": "stdout",
     "output_type": "stream",
     "text": [
      "[jovian] Attempting to save notebook..\n",
      "[jovian] Updating notebook \"riyanahmad99/02-insurance-linear-regression\" on https://jovian.ml/\n",
      "[jovian] Uploading notebook..\n",
      "[jovian] Committed successfully! https://jovian.ml/riyanahmad99/02-insurance-linear-regression\n"
     ]
    },
    {
     "data": {
      "text/plain": [
       "'https://jovian.ml/riyanahmad99/02-insurance-linear-regression'"
      ]
     },
     "execution_count": 25,
     "metadata": {},
     "output_type": "execute_result"
    }
   ],
   "source": [
    "jovian.commit(project=project_name, environment=None)"
   ]
  },
  {
   "cell_type": "markdown",
   "metadata": {},
   "source": [
    "## Step 3: Create a Linear Regression Model\n",
    "\n",
    "Our model itself is a fairly straightforward linear regression (we'll build more complex models in the next assignment). \n"
   ]
  },
  {
   "cell_type": "code",
   "execution_count": 26,
   "metadata": {},
   "outputs": [],
   "source": [
    "input_size = len(input_cols)\n",
    "output_size = len(output_cols)\n"
   ]
  },
  {
   "cell_type": "markdown",
   "metadata": {},
   "source": [
    "**Q: Complete the class definition below by filling out the constructor (`__init__`), `forward`, `training_step` and `validation_step` methods.**\n",
    "\n",
    "Hint: Think carefully about picking a good loss fuction (it's not cross entropy). Maybe try 2-3 of them and see which one works best. See https://pytorch.org/docs/stable/nn.functional.html#loss-functions"
   ]
  },
  {
   "cell_type": "code",
   "execution_count": 27,
   "metadata": {},
   "outputs": [],
   "source": [
    "class InsuranceModel(nn.Module):\n",
    "    def __init__(self):\n",
    "        super().__init__()\n",
    "        self.linear =nn.Linear(input_size,output_size)                  # fill this (hint: use input_size & output_size defined above)\n",
    "        \n",
    "    def forward(self, xb):\n",
    "        out = self.linear(xb)                          # fill this\n",
    "        return out\n",
    "    \n",
    "    def training_step(self, batch):\n",
    "        inputs, targets = batch \n",
    "        # Generate predictions\n",
    "        out = self(inputs)          \n",
    "        # Calcuate loss\n",
    "        loss = F.l1_loss(out, targets)               # fill this\n",
    "        return loss\n",
    "    \n",
    "    def validation_step(self, batch):\n",
    "        inputs, targets = batch\n",
    "        # Generate predictions\n",
    "        out = self(inputs)\n",
    "        # Calculate loss\n",
    "        loss = F.l1_loss(out, targets)                        # fill this    \n",
    "        return {'val_loss': loss.detach()}\n",
    "        \n",
    "    def validation_epoch_end(self, outputs):\n",
    "        batch_losses = [x['val_loss'] for x in outputs]\n",
    "        epoch_loss = torch.stack(batch_losses).mean()   # Combine losses\n",
    "        return {'val_loss': epoch_loss.item()}\n",
    "    \n",
    "    def epoch_end(self, epoch, result, num_epochs):\n",
    "        # Print result every 20th epoch\n",
    "        if (epoch+1) % 20 == 0 or epoch == num_epochs-1:\n",
    "            print(\"Epoch [{}], val_loss: {:.4f}\".format(epoch+1, result['val_loss']))"
   ]
  },
  {
   "cell_type": "markdown",
   "metadata": {},
   "source": [
    "Let us create a model using the `InsuranceModel` class. You may need to come back later and re-run the next cell to reinitialize the model, in case the loss becomes `nan` or `infinity`."
   ]
  },
  {
   "cell_type": "code",
   "execution_count": 28,
   "metadata": {},
   "outputs": [],
   "source": [
    "model = InsuranceModel()"
   ]
  },
  {
   "cell_type": "markdown",
   "metadata": {},
   "source": [
    "Let's check out the weights and biases of the model using `model.parameters`."
   ]
  },
  {
   "cell_type": "code",
   "execution_count": 29,
   "metadata": {},
   "outputs": [
    {
     "data": {
      "text/plain": [
       "[Parameter containing:\n",
       " tensor([[-0.0898,  0.0742, -0.4287,  0.1827,  0.1012]], requires_grad=True),\n",
       " Parameter containing:\n",
       " tensor([-0.1571], requires_grad=True)]"
      ]
     },
     "execution_count": 29,
     "metadata": {},
     "output_type": "execute_result"
    }
   ],
   "source": [
    "list(model.parameters())"
   ]
  },
  {
   "cell_type": "markdown",
   "metadata": {},
   "source": [
    "One final commit before we train the model."
   ]
  },
  {
   "cell_type": "code",
   "execution_count": 30,
   "metadata": {},
   "outputs": [
    {
     "data": {
      "application/javascript": [
       "window.require && require([\"base/js/namespace\"],function(Jupyter){Jupyter.notebook.save_checkpoint()})"
      ],
      "text/plain": [
       "<IPython.core.display.Javascript object>"
      ]
     },
     "metadata": {},
     "output_type": "display_data"
    },
    {
     "name": "stdout",
     "output_type": "stream",
     "text": [
      "[jovian] Attempting to save notebook..\n",
      "[jovian] Updating notebook \"riyanahmad99/02-insurance-linear-regression\" on https://jovian.ml/\n",
      "[jovian] Uploading notebook..\n",
      "[jovian] Committed successfully! https://jovian.ml/riyanahmad99/02-insurance-linear-regression\n"
     ]
    },
    {
     "data": {
      "text/plain": [
       "'https://jovian.ml/riyanahmad99/02-insurance-linear-regression'"
      ]
     },
     "execution_count": 30,
     "metadata": {},
     "output_type": "execute_result"
    }
   ],
   "source": [
    "jovian.commit(project=project_name, environment=None)"
   ]
  },
  {
   "cell_type": "markdown",
   "metadata": {},
   "source": [
    "## Step 4: Train the model to fit the data\n",
    "\n",
    "To train our model, we'll use the same `fit` function explained in the lecture. That's the benefit of defining a generic training loop - you can use it for any problem."
   ]
  },
  {
   "cell_type": "code",
   "execution_count": 31,
   "metadata": {},
   "outputs": [],
   "source": [
    "def evaluate(model, val_loader):\n",
    "    outputs = [model.validation_step(batch) for batch in val_loader]\n",
    "    return model.validation_epoch_end(outputs)\n",
    "\n",
    "def fit(epochs, lr, model, train_loader, val_loader, opt_func=torch.optim.SGD):\n",
    "    history = []\n",
    "    optimizer = opt_func(model.parameters(), lr)\n",
    "    for epoch in range(epochs):\n",
    "        # Training Phase \n",
    "        for batch in train_loader:\n",
    "            loss = model.training_step(batch)\n",
    "            loss.backward()\n",
    "            optimizer.step()\n",
    "            optimizer.zero_grad()\n",
    "        # Validation phase\n",
    "        result = evaluate(model, val_loader)\n",
    "        model.epoch_end(epoch, result, epochs)\n",
    "        history.append(result)\n",
    "    return history"
   ]
  },
  {
   "cell_type": "markdown",
   "metadata": {},
   "source": [
    "**Q: Use the `evaluate` function to calculate the loss on the validation set before training.**"
   ]
  },
  {
   "cell_type": "code",
   "execution_count": 32,
   "metadata": {},
   "outputs": [
    {
     "name": "stdout",
     "output_type": "stream",
     "text": [
      "{'val_loss': 14589.98046875}\n"
     ]
    }
   ],
   "source": [
    "result = evaluate(model,val_loader) # Use the the evaluate function\n",
    "print(result)"
   ]
  },
  {
   "cell_type": "markdown",
   "metadata": {},
   "source": [
    "\n",
    "We are now ready to train the model. You may need to run the training loop many times, for different number of epochs and with different learning rates, to get a good result. Also, if your loss becomes too large (or `nan`), you may have to re-initialize the model by running the cell `model = InsuranceModel()`. Experiment with this for a while, and try to get to as low a loss as possible."
   ]
  },
  {
   "cell_type": "markdown",
   "metadata": {},
   "source": [
    "**Q: Train the model 4-5 times with different learning rates & for different number of epochs.**\n",
    "\n",
    "Hint: Vary learning rates by orders of 10 (e.g. `1e-2`, `1e-3`, `1e-4`, `1e-5`, `1e-6`) to figure out what works."
   ]
  },
  {
   "cell_type": "code",
   "execution_count": 37,
   "metadata": {},
   "outputs": [
    {
     "name": "stdout",
     "output_type": "stream",
     "text": [
      "Epoch [20], val_loss: 14550.1260\n",
      "Epoch [40], val_loss: 14544.4688\n",
      "Epoch [60], val_loss: 14538.8037\n",
      "Epoch [80], val_loss: 14533.1484\n",
      "Epoch [100], val_loss: 14527.4971\n",
      "Epoch [120], val_loss: 14521.8467\n",
      "Epoch [140], val_loss: 14516.1904\n",
      "Epoch [160], val_loss: 14510.5283\n",
      "Epoch [180], val_loss: 14504.8643\n",
      "Epoch [200], val_loss: 14499.2080\n",
      "Epoch [220], val_loss: 14493.5547\n",
      "Epoch [240], val_loss: 14487.9033\n",
      "Epoch [260], val_loss: 14482.2461\n",
      "Epoch [280], val_loss: 14476.5986\n",
      "Epoch [300], val_loss: 14470.9531\n",
      "Epoch [320], val_loss: 14465.3037\n",
      "Epoch [340], val_loss: 14459.6533\n",
      "Epoch [360], val_loss: 14453.9922\n",
      "Epoch [380], val_loss: 14448.3389\n",
      "Epoch [400], val_loss: 14442.6885\n",
      "Epoch [420], val_loss: 14437.0459\n",
      "Epoch [440], val_loss: 14431.3906\n",
      "Epoch [460], val_loss: 14425.7295\n",
      "Epoch [480], val_loss: 14420.0791\n",
      "Epoch [500], val_loss: 14414.4180\n",
      "Epoch [520], val_loss: 14408.7568\n",
      "Epoch [540], val_loss: 14403.1045\n",
      "Epoch [560], val_loss: 14397.4521\n",
      "Epoch [580], val_loss: 14391.7959\n",
      "Epoch [600], val_loss: 14386.1484\n",
      "Epoch [620], val_loss: 14380.5039\n",
      "Epoch [640], val_loss: 14374.8564\n",
      "Epoch [660], val_loss: 14369.2031\n",
      "Epoch [680], val_loss: 14363.5420\n",
      "Epoch [700], val_loss: 14357.8838\n",
      "Epoch [720], val_loss: 14352.2393\n",
      "Epoch [740], val_loss: 14346.5820\n",
      "Epoch [760], val_loss: 14340.9189\n",
      "Epoch [780], val_loss: 14335.2617\n",
      "Epoch [800], val_loss: 14329.6006\n",
      "Epoch [820], val_loss: 14323.9502\n",
      "Epoch [840], val_loss: 14318.2891\n",
      "Epoch [860], val_loss: 14312.6396\n",
      "Epoch [880], val_loss: 14306.9893\n",
      "Epoch [900], val_loss: 14301.3467\n",
      "Epoch [920], val_loss: 14295.6885\n",
      "Epoch [940], val_loss: 14290.0391\n",
      "Epoch [960], val_loss: 14284.3828\n",
      "Epoch [980], val_loss: 14278.7266\n",
      "Epoch [1000], val_loss: 14273.0703\n"
     ]
    }
   ],
   "source": [
    "epochs = 1000\n",
    "lr = 1e-5\n",
    "history1 = fit(epochs, lr, model, train_loader, val_loader)"
   ]
  },
  {
   "cell_type": "code",
   "execution_count": 43,
   "metadata": {},
   "outputs": [
    {
     "name": "stdout",
     "output_type": "stream",
     "text": [
      "Epoch [1], val_loss: 7732.2949\n"
     ]
    }
   ],
   "source": [
    "epochs = 1\n",
    "lr = 1\n",
    "history2 = fit(epochs, lr, model, train_loader, val_loader)"
   ]
  },
  {
   "cell_type": "code",
   "execution_count": 39,
   "metadata": {},
   "outputs": [
    {
     "name": "stdout",
     "output_type": "stream",
     "text": [
      "Epoch [10], val_loss: 14230.6318\n"
     ]
    }
   ],
   "source": [
    "epochs = 10\n",
    "lr = 1e-4\n",
    "history3 = fit(epochs, lr, model, train_loader, val_loader)"
   ]
  },
  {
   "cell_type": "code",
   "execution_count": 40,
   "metadata": {},
   "outputs": [
    {
     "name": "stdout",
     "output_type": "stream",
     "text": [
      "Epoch [1], val_loss: 14202.3936\n"
     ]
    }
   ],
   "source": [
    "epochs = 1\n",
    "lr = 1e-3\n",
    "history4 = fit(epochs, lr, model, train_loader, val_loader)"
   ]
  },
  {
   "cell_type": "code",
   "execution_count": 45,
   "metadata": {},
   "outputs": [
    {
     "name": "stdout",
     "output_type": "stream",
     "text": [
      "Epoch [1], val_loss: 7279.3101\n"
     ]
    }
   ],
   "source": [
    "epochs = 1\n",
    "lr = 1\n",
    "history5 = fit(epochs, lr, model, train_loader, val_loader)"
   ]
  },
  {
   "cell_type": "markdown",
   "metadata": {},
   "source": [
    "**Q: What is the final validation loss of your model?**"
   ]
  },
  {
   "cell_type": "code",
   "execution_count": 48,
   "metadata": {},
   "outputs": [
    {
     "data": {
      "text/plain": [
       "Text(0, 0.5, 'losses')"
      ]
     },
     "execution_count": 48,
     "metadata": {},
     "output_type": "execute_result"
    },
    {
     "data": {
      "image/png": "[encoded data removed]",
      "text/plain": [
       "<Figure size 432x288 with 1 Axes>"
      ]
     },
     "metadata": {
      "needs_background": "light"
     },
     "output_type": "display_data"
    }
   ],
   "source": [
    "val_loss = [result] + history1 + history2 + history3 + history4 + history5\n",
    "#print(val_loss)\n",
    "val_loss_list = [vl['val_loss'] for vl in val_loss]\n",
    "\n",
    "plt.plot(val_loss_list, '-x')\n",
    "\n",
    "plt.xlabel('epochs')\n",
    "plt.ylabel('losses')\n"
   ]
  },
  {
   "cell_type": "markdown",
   "metadata": {},
   "source": [
    "Let's log the final validation loss to Jovian and commit the notebook"
   ]
  },
  {
   "cell_type": "code",
   "execution_count": 49,
   "metadata": {},
   "outputs": [
    {
     "name": "stdout",
     "output_type": "stream",
     "text": [
      "[jovian] Metrics logged.\n"
     ]
    }
   ],
   "source": [
    "jovian.log_metrics(val_loss=val_loss)"
   ]
  },
  {
   "cell_type": "code",
   "execution_count": 50,
   "metadata": {},
   "outputs": [
    {
     "data": {
      "application/javascript": [
       "window.require && require([\"base/js/namespace\"],function(Jupyter){Jupyter.notebook.save_checkpoint()})"
      ],
      "text/plain": [
       "<IPython.core.display.Javascript object>"
      ]
     },
     "metadata": {},
     "output_type": "display_data"
    },
    {
     "name": "stdout",
     "output_type": "stream",
     "text": [
      "[jovian] Attempting to save notebook..\n",
      "[jovian] Updating notebook \"riyanahmad99/02-insurance-linear-regression\" on https://jovian.ml/\n",
      "[jovian] Uploading notebook..\n",
      "[jovian] Attaching records (metrics, hyperparameters, dataset etc.)\n",
      "[jovian] Committed successfully! https://jovian.ml/riyanahmad99/02-insurance-linear-regression\n"
     ]
    },
    {
     "data": {
      "text/plain": [
       "'https://jovian.ml/riyanahmad99/02-insurance-linear-regression'"
      ]
     },
     "execution_count": 50,
     "metadata": {},
     "output_type": "execute_result"
    }
   ],
   "source": [
    "jovian.commit(project=project_name, environment=None)"
   ]
  },
  {
   "cell_type": "markdown",
   "metadata": {},
   "source": [
    "Now scroll back up, re-initialize the model, and try different set of values for batch size, number of epochs, learning rate etc. Commit each experiment and use the \"Compare\" and \"View Diff\" options on Jovian to compare the different results."
   ]
  },
  {
   "cell_type": "markdown",
   "metadata": {},
   "source": [
    "## Step 5: Make predictions using the trained model\n",
    "\n",
    "**Q: Complete the following function definition to make predictions on a single input**"
   ]
  },
  {
   "cell_type": "code",
   "execution_count": 52,
   "metadata": {},
   "outputs": [],
   "source": [
    "def predict_single(input, target, model):\n",
    "    inputs = input.unsqueeze(0)\n",
    "    predictions = model(inputs)                # fill this\n",
    "    prediction = predictions[0].detach()\n",
    "    print(\"Input:\", input)\n",
    "    print(\"Target:\", target)\n",
    "    print(\"Prediction:\", prediction)"
   ]
  },
  {
   "cell_type": "code",
   "execution_count": 53,
   "metadata": {},
   "outputs": [
    {
     "name": "stdout",
     "output_type": "stream",
     "text": [
      "Input: tensor([18.0000,  1.0000, 40.0785,  0.0000,  1.0000])\n",
      "Target: tensor([43932.4375])\n",
      "Prediction: tensor([5827.7314])\n"
     ]
    }
   ],
   "source": [
    "input, target = val_ds[0]\n",
    "predict_single(input, target, model)"
   ]
  },
  {
   "cell_type": "code",
   "execution_count": 54,
   "metadata": {},
   "outputs": [
    {
     "name": "stdout",
     "output_type": "stream",
     "text": [
      "Input: tensor([24.0000,  0.0000, 35.6895,  0.0000,  0.0000])\n",
      "Target: tensor([2992.7344])\n",
      "Prediction: tensor([6753.3984])\n"
     ]
    }
   ],
   "source": [
    "input, target = val_ds[10]\n",
    "predict_single(input, target, model)"
   ]
  },
  {
   "cell_type": "code",
   "execution_count": 55,
   "metadata": {},
   "outputs": [
    {
     "name": "stdout",
     "output_type": "stream",
     "text": [
      "Input: tensor([24.0000,  0.0000, 26.5335,  0.0000,  0.0000])\n",
      "Target: tensor([3683.4980])\n",
      "Prediction: tensor([6233.0327])\n"
     ]
    }
   ],
   "source": [
    "input, target = val_ds[23]\n",
    "predict_single(input, target, model)"
   ]
  },
  {
   "cell_type": "markdown",
   "metadata": {},
   "source": [
    "Are you happy with your model's predictions? Try to improve them further."
   ]
  },
  {
   "cell_type": "markdown",
   "metadata": {},
   "source": [
    "## (Optional) Step 6: Try another dataset & blog about it\n",
    "\n",
    "While this last step is optional for the submission of your assignment, we highly recommend that you do it. Try to clean up & replicate this notebook (or [this one](https://jovian.ml/aakashns/housing-linear-minimal), or [this one](https://jovian.ml/aakashns/mnist-logistic-minimal) ) for a different linear regression or logistic regression problem. This will help solidify your understanding, and give you a chance to differentiate the generic patters in machine learning from problem-specific details.\n",
    "\n",
    "Here are some sources to find good datasets:\n",
    "\n",
    "- https://lionbridge.ai/datasets/10-open-datasets-for-linear-regression/\n",
    "- https://www.kaggle.com/rtatman/datasets-for-regression-analysis\n",
    "- https://archive.ics.uci.edu/ml/datasets.php?format=&task=reg&att=&area=&numAtt=&numIns=&type=&sort=nameUp&view=table\n",
    "- https://people.sc.fsu.edu/~jburkardt/datasets/regression/regression.html\n",
    "- https://archive.ics.uci.edu/ml/datasets/wine+quality\n",
    "- https://pytorch.org/docs/stable/torchvision/datasets.html\n",
    "\n",
    "We also recommend that you write a blog about your approach to the problem. Here is a suggested structure for your post (feel free to experiment with it):\n",
    "\n",
    "- Interesting title & subtitle\n",
    "- Overview of what the blog covers (which dataset, linear regression or logistic regression, intro to PyTorch)\n",
    "- Downloading & exploring the data\n",
    "- Preparing the data for training\n",
    "- Creating a model using PyTorch\n",
    "- Training the model to fit the data\n",
    "- Your thoughts on how to experiment with different hyperparmeters to reduce loss\n",
    "- Making predictions using the model\n",
    "\n",
    "As with the previous assignment, you can [embed Juptyer notebook cells & outputs from Jovian](https://medium.com/jovianml/share-and-embed-jupyter-notebooks-online-with-jovian-ml-df709a03064e) into your blog. \n",
    "\n",
    "Don't forget to share your work on the forum: https://jovian.ml/forum/t/share-your-work-here-assignment-2/4931"
   ]
  },
  {
   "cell_type": "code",
   "execution_count": null,
   "metadata": {},
   "outputs": [
    {
     "data": {
      "application/javascript": [
       "window.require && require([\"base/js/namespace\"],function(Jupyter){Jupyter.notebook.save_checkpoint()})"
      ],
      "text/plain": [
       "<IPython.core.display.Javascript object>"
      ]
     },
     "metadata": {},
     "output_type": "display_data"
    },
    {
     "name": "stdout",
     "output_type": "stream",
     "text": [
      "[jovian] Attempting to save notebook..\n",
      "[jovian] Updating notebook \"riyanahmad99/02-insurance-linear-regression\" on https://jovian.ml/\n",
      "[jovian] Uploading notebook..\n",
      "[jovian] Attaching records (metrics, hyperparameters, dataset etc.)\n",
      "[jovian] Committed successfully! https://jovian.ml/riyanahmad99/02-insurance-linear-regression\n"
     ]
    },
    {
     "data": {
      "application/javascript": [
       "window.require && require([\"base/js/namespace\"],function(Jupyter){Jupyter.notebook.save_checkpoint()})"
      ],
      "text/plain": [
       "<IPython.core.display.Javascript object>"
      ]
     },
     "metadata": {},
     "output_type": "display_data"
    },
    {
     "name": "stdout",
     "output_type": "stream",
     "text": [
      "[jovian] Attempting to save notebook..\n"
     ]
    }
   ],
   "source": [
    "jovian.commit(project=project_name, environment=None)\n",
    "jovian.commit(project=project_name, environment=None) # try again, kaggle fails sometimes"
   ]
  },
  {
   "cell_type": "code",
   "execution_count": null,
   "metadata": {},
   "outputs": [],
   "source": []
  }
 ],
 "metadata": {
  "kernelspec": {
   "display_name": "Python 3",
   "language": "python",
   "name": "python3"
  },
  "language_info": {
   "codemirror_mode": {
    "name": "ipython",
    "version": 3
   },
   "file_extension": ".py",
   "mimetype": "text/x-python",
   "name": "python",
   "nbconvert_exporter": "python",
   "pygments_lexer": "ipython3",
   "version": "3.7.4"
  }
 },
 "nbformat": 4,
 "nbformat_minor": 4
}
